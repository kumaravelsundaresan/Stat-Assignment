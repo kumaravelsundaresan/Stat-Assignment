{
 "cells": [
  {
   "cell_type": "markdown",
   "metadata": {},
   "source": [
    "## 2.1 solution"
   ]
  },
  {
   "cell_type": "code",
   "execution_count": 8,
   "metadata": {},
   "outputs": [
    {
     "name": "stdout",
     "output_type": "stream",
     "text": [
      "The average rent paid by the tenants is : 1158.33\n",
      "The standard deviation is : 335.93\n"
     ]
    }
   ],
   "source": [
    "import numpy as np\n",
    "# Getting the rents as a list\n",
    "rent =[1550,1700,900,850,1000,950]\n",
    "# Using the numpy's mean() function to get the average rent\n",
    "average_rent = np.mean(rent)\n",
    "print(\"The average rent paid by the tenants is : {:.2f}\".format(average_rent))\n",
    "# Using the numpy's std() function to get the standard deviation\n",
    "standard_deviation = np.std(rent)\n",
    "print(\"The standard deviation is : {:.2f}\".format(standard_deviation))"
   ]
  },
  {
   "cell_type": "code",
   "execution_count": 4,
   "metadata": {},
   "outputs": [
    {
     "name": "stdout",
     "output_type": "stream",
     "text": [
      "The variance in tree height is : 5183.25\n"
     ]
    }
   ],
   "source": [
    "import numpy as np\n",
    "\n",
    "# Getting the height of trees in foot as a list\n",
    "tree_height = [3,21,98,203,17,9]\n",
    "# Using the numpy's var() function to get the variance. the same can also be realized by squaring the standard deviation \n",
    "variance_tree_height = np.var(tree_height)\n",
    "print(\"The variance in tree height is : {:.2f}\".format(variance_tree_height))"
   ]
  },
  {
   "cell_type": "code",
   "execution_count": 10,
   "metadata": {},
   "outputs": [
    {
     "data": {
      "image/png": "[encoded data removed]",
      "text/plain": [
       "<Figure size 432x288 with 1 Axes>"
      ]
     },
     "metadata": {
      "needs_background": "light"
     },
     "output_type": "display_data"
    }
   ],
   "source": [
    "import numpy as np\n",
    "import matplotlib.pyplot as plt\n",
    "\n",
    "# Realizing the subjects as list - Eg., Failed in zero,one,two and three subjects\n",
    "failure_count_subjects = [0,1,2,3]\n",
    "# The probablity function is realized with respect to student count\n",
    "prob_func = [80/100,10/100,7/100,3/100]\n",
    "# Realizing the probablity distribution using a bar chart\n",
    "plt.bar(failure_count_subjects,prob_func)\n",
    "plt.xlabel('Failure_count_of_subjects')\n",
    "plt.ylabel('Number_of_students_failure_per_subject')\n",
    "plt.show()"
   ]
  },
  {
   "cell_type": "markdown",
   "metadata": {},
   "source": [
    "## 2.2 solution"
   ]
  },
  {
   "cell_type": "code",
   "execution_count": 12,
   "metadata": {},
   "outputs": [
    {
     "name": "stdout",
     "output_type": "stream",
     "text": [
      "The probablity of getting exactly 5 questions wrong is :  3.4264958230778575e-06 \n",
      "\n",
      "The probablity mass function is realized using a bar plot \n",
      "\n"
     ]
    },
    {
     "data": {
      "image/png": "[encoded data removed]",
      "text/plain": [
       "<Figure size 432x288 with 1 Axes>"
      ]
     },
     "metadata": {
      "needs_background": "light"
     },
     "output_type": "display_data"
    }
   ],
   "source": [
    "#A test is conducted which is consisting of 20 MCQs (multiple choices questions) with every MCQ having its four options out of which only one is correct. Determine the\n",
    "#probability that a person undertaking that test has answered exactly 5 questions wrong.\n",
    "\n",
    "import matplotlib.pyplot as plt\n",
    "import scipy\n",
    "import scipy.stats as st\n",
    "from scipy.special import factorial\n",
    "import math\n",
    "import numpy as np\n",
    "%matplotlib inline\n",
    "\n",
    "n = 20\n",
    "success = 0.25\n",
    "failure = 0.75\n",
    "# P(X=r) = (n!/r!*(n-r)!) * (p)**r * (q)**(n-r) \n",
    "Ncr = factorial(20)/(factorial(5)*factorial(15))\n",
    "Prob_succ = (0.25)**15\n",
    "Prob_fail = (0.75)**5\n",
    "Prob_of_5_wrong = Ncr * Prob_succ * Prob_fail\n",
    "print(\"The probablity of getting exactly 5 questions wrong is : \",Prob_of_5_wrong,\"\\n\")\n",
    "p = 0.75\n",
    "x = np.arange(20)\n",
    "print(\"The probablity mass function is realized using a bar plot\",\"\\n\")\n",
    "pmf = st.binom.pmf(x,n,p)\n",
    "plt.bar(x,pmf)\n",
    "plt.show()"
   ]
  },
  {
   "cell_type": "code",
   "execution_count": 13,
   "metadata": {},
   "outputs": [
    {
     "name": "stdout",
     "output_type": "stream",
     "text": [
      "The probability of success = probability of getting a “D” is  0.2\n",
      "The probability of failure = probability of not getting a “D” is  0.8\n"
     ]
    }
   ],
   "source": [
    "# A die marked A to E is rolled 50 times. Find the probability of getting a “D” exactly 5 times. \n",
    "total_roll = 50\n",
    "k = 5\n",
    "#n - k = 45\n",
    "# The probability of success = probability of getting a “D”\n",
    "prob_of_D = 1/5\n",
    "print(\"The probability of success = probability of getting a “D” is \",prob_of_D)\n",
    "#Hence, the probability of failure = probability of not getting a “D” = 1 - s \n",
    "prob_of_not_getting_D=  4/5\n",
    "print(\"The probability of failure = probability of not getting a “D” is \",prob_of_not_getting_D)"
   ]
  },
  {
   "cell_type": "code",
   "execution_count": 14,
   "metadata": {},
   "outputs": [
    {
     "name": "stdout",
     "output_type": "stream",
     "text": [
      "The probability of getting red ball is :  0.4\n",
      "The probability of getting black ball is :  0.6\n"
     ]
    }
   ],
   "source": [
    "# Two balls are drawn at random in succession without replacement from an urn containing 4 red balls and 6 black balls\n",
    "\n",
    "Total_balls = 10\n",
    "prob_of_red_ball= 4/10\n",
    "prob_of_black_ball = 6/10\n",
    "print(\"The probability of getting red ball is : \",prob_of_red_ball)\n",
    "print(\"The probability of getting black ball is : \",prob_of_black_ball)"
   ]
  },
  {
   "cell_type": "markdown",
   "metadata": {},
   "source": [
    "## 2.3 solution"
   ]
  },
  {
   "cell_type": "code",
   "execution_count": 17,
   "metadata": {},
   "outputs": [
    {
     "name": "stdout",
     "output_type": "stream",
     "text": [
      "3.2\n",
      "There is raw corn starch effect\n"
     ]
    }
   ],
   "source": [
    "#Blood glucose levels for obese patients have a mean of 100 with a standard deviation of 15. A researcher thinks that a diet high in raw cornstarch will have a positive effect on\n",
    "#blood glucose levels. A sample of 36 patients who have tried the raw cornstarch diet have a mean glucose level of 108. Test the hypothesis that the raw cornstarch had an effect or not.\n",
    "\n",
    "import matplotlib.pyplot as plt\n",
    "import scipy\n",
    "import scipy.stats as st\n",
    "from scipy.special import factorial\n",
    "import math\n",
    "import numpy as np\n",
    "%matplotlib inline\n",
    "\n",
    "# Null hypothesis: H0 =100\n",
    "# Alternate hypothesis: H1:≠100\n",
    "# Alpha = 0.05 (Two tailed test hence 0.05/2 = 0.025)\n",
    "\n",
    "z = (108-100)/((15/math.sqrt(36)))\n",
    "print(z)\n",
    "\n",
    "# From Z table,  p-value associated with 3.20 is 0.9993 hence the probability of having value less than 108 is 0.9993 \n",
    "# Probablity of having value more than 108 is (1-0.9993)=0.0007.\n",
    "# We can infer that 0.0007 is very less than 0.05 so we can reject the null hypothesis.\n",
    "print(\"There is raw corn starch effect\")"
   ]
  },
  {
   "cell_type": "code",
   "execution_count": 18,
   "metadata": {},
   "outputs": [
    {
     "name": "stdout",
     "output_type": "stream",
     "text": [
      "The standard deviation is : 0.0706\n",
      "The Z value is : -0.70803\n",
      "We can get the probablity from the Z table using the above Z value\n",
      "The probability of greater percentage of Republican voters in the second state than in the first state is 0.24\n"
     ]
    }
   ],
   "source": [
    "#In one state, 52% of the voters are Republicans, and 48% are Democrats. In a second state, 47% of the voters are Republicans, and 53% are Democrats. Suppose a simple\n",
    "#random sample of 100 voters are surveyed from each state.What is the probability that the survey will show a greater percentage of Republican\n",
    "#voters in the second state than in the first state?\n",
    "\n",
    "p1 = 0.52\n",
    "p2 = 0.47\n",
    "\n",
    "# mean_difference = p1 - p2 = 0.05\n",
    "mean = 0.05\n",
    "# std_dev = sqrt{[p1 * (1-p1)/n1] + [p2 * (1-p2)/n2])\n",
    "std_dev = math.sqrt((0.52*0.48/100) + (0.47 * 0.53/100))\n",
    "print(\"The standard deviation is : %.4f\"%std_dev)\n",
    "# Calculating the Z value\n",
    "z = (0-0.05)/std_dev\n",
    "print(\"The Z value is : %.5f\"%z)\n",
    "print(\"We can get the probablity from the Z table using the above Z value\")\n",
    "print(\"The probability of greater percentage of Republican voters in the second state than in the first state is 0.24\")"
   ]
  },
  {
   "cell_type": "code",
   "execution_count": 19,
   "metadata": {},
   "outputs": [
    {
     "name": "stdout",
     "output_type": "stream",
     "text": [
      "0.35406698564593303\n",
      "Hence the performance is better than 63.68% of the candidates\n"
     ]
    }
   ],
   "source": [
    "#You take the SAT and score 1100. The mean score for the SAT is 1026 and the standard deviation is 209. How well did you score on the test compared to the average test taker?\n",
    "\n",
    "z = (1100 - 1026)/209\n",
    "print(z)\n",
    "# Looking at the Z table we get the value of 0.6368\n",
    "print(\"Hence the performance is better than 63.68% of the candidates\")\n"
   ]
  },
  {
   "cell_type": "markdown",
   "metadata": {},
   "source": [
    "## 2.4 solution"
   ]
  },
  {
   "cell_type": "code",
   "execution_count": 21,
   "metadata": {},
   "outputs": [
    {
     "name": "stdout",
     "output_type": "stream",
     "text": [
      "        High School  Bachelors  Masters  Ph.d  Total\n",
      "Female           60         54       46    41    201\n",
      "Male             40         44       53    57    194\n",
      "Total           100         98       99    98    395 \n",
      "\n",
      "The value of expected count is as follows : \n",
      "\n",
      "        High School  Bachelors  Masters    Ph.d  Total\n",
      "Female       50.886     49.868   50.377  49.868    201\n",
      "Male         49.114     48.132   48.623  48.132    194\n",
      "Total       100.000     98.000   99.000  98.000    395\n",
      "\n",
      "Calculating X2 now : \n",
      "\n",
      "8.0059071211091\n",
      "As 8.006 > 7.815, we can conclude that Null hypothesis can be rejected.Hence education level depends on gender at a 5 percentage level of significance.\n"
     ]
    }
   ],
   "source": [
    "# Gender independent of education level problem\n",
    "\n",
    "import scipy.stats as stats\n",
    "import numpy as np\n",
    "import pandas as pd\n",
    "import math as mt\n",
    "\n",
    "# The table of expected counts is obtained using (Row total * column total)/total_value\n",
    "index = ['Female','Male','Total']\n",
    "columns = ['High School','Bachelors','Masters','Ph.d','Total']\n",
    "orig_df = pd.DataFrame(index=index,columns=columns)\n",
    "orig_df['High School'] = [60,40,100]\n",
    "orig_df['Bachelors'] = [54,44,98]\n",
    "orig_df['Masters'] = [46,53,99]\n",
    "orig_df['Ph.d'] = [41,57,98]\n",
    "orig_df['Total'] = [201,194,395]\n",
    "print(orig_df,\"\\n\")\n",
    "exp_df = pd.DataFrame(index=index,columns=columns)\n",
    "exp_df['High School'] = [50.886,49.114,100]\n",
    "exp_df['Bachelors'] = [49.868,48.132,98]\n",
    "exp_df['Masters'] = [50.377,48.623,99]\n",
    "exp_df['Ph.d'] = [49.868,48.132,98]\n",
    "exp_df['Total'] = [201,194,395]\n",
    "print(\"The value of expected count is as follows : \\n\")\n",
    "print(exp_df)\n",
    "print(\"\\nCalculating X2 now : \\n\")\n",
    "female_x2 = (mt.pow((60-50.886),2)/50.886)+(mt.pow((54-49.868),2)/49.868)+(mt.pow((46-50.377),2)/50.377)+(mt.pow((41-49.868),2)/49.868)\n",
    "male_x2 = (mt.pow((40-49.114),2)/49.114)+(mt.pow((44-48.132),2)/48.132)+(mt.pow((53-48.623),2)/48.623)+(mt.pow((57-48.132),2)/48.132)\n",
    "X2 = female_x2+male_x2\n",
    "print(X2)\n",
    "# The critical value of x2 with 3 degree of freedom is 7.815\n",
    "print(\"As 8.006 > 7.815, we can conclude that Null hypothesis can be rejected.Hence education level depends on gender at a 5 percentage level of significance.\")"
   ]
  },
  {
   "cell_type": "code",
   "execution_count": 22,
   "metadata": {},
   "outputs": [
    {
     "name": "stdout",
     "output_type": "stream",
     "text": [
      "Sum of squared deviations from the mean (SS) for the groups :  [612.8, 515.2, 732.8]\n",
      "Sum of squares(SS_means) :  604.5866666666666\n",
      "3022.933333333333\n",
      "9.747205503009457\n",
      "The Annova table is as follows : \n",
      "   source           SS   df       MS        F\n",
      "0  group  3022.933333    2  1511.47  9.74721\n",
      "1  error  1860.800000   12  155.067      NaN\n",
      "2  total  4883.733333  NaN      NaN      NaN\n",
      "The effective size is :  0.618980015262844\n",
      "The APA write up is : F(2, 12)=9.75, p <0.05, n2=0.62\n"
     ]
    }
   ],
   "source": [
    "#Using the following data, perform a oneway analysis of variance using α=.05. Write up the results in APA format.\n",
    "#[Group1: 51, 45, 33, 45, 67]\n",
    "#[Group2: 23, 43, 23, 43, 45]\n",
    "#[Group3: 56, 76, 74, 87, 56]\n",
    "\n",
    "import scipy.stats as stats\n",
    "import numpy as np\n",
    "import pandas as pd\n",
    "\n",
    "a = [51, 45, 33, 45, 67]\n",
    "b = [23, 43, 23, 43, 45]\n",
    "c = [56, 76, 74, 87, 56]\n",
    "# finding the mean using numpy's mean()\n",
    "mean_a = np.mean(a)\n",
    "mean_b = np.mean(b)\n",
    "mean_c = np.mean(c)\n",
    "# finding the differences\n",
    "diff_a = a-mean_a\n",
    "diff_b = b-mean_b\n",
    "diff_c = c-mean_c\n",
    "# Squaring the differences\n",
    "square_dev_a = diff_a*diff_a\n",
    "square_dev_b = diff_b*diff_b\n",
    "square_dev_c = diff_c*diff_c\n",
    "# Obtaining the sum of square of differences\n",
    "ss = [sum(square_dev_a),sum(square_dev_b),sum(square_dev_c)]\n",
    "print(\"Sum of squared deviations from the mean (SS) for the groups : \",ss)\n",
    "var = [x/(5-1) for x in ss]\n",
    "MS_err = (sum(var)/3)\n",
    "df_error = 15-3\n",
    "# Calculating the remaining error for the ANOVA table\n",
    "SS_err = MS_err * (15-3)\n",
    "Grand_mean = (mean_a+mean_b+mean_c)/3\n",
    "mean_list = [mean_a,mean_b,mean_c]\n",
    "grand_diff = mean_list-Grand_mean\n",
    "grand_sq = grand_diff * grand_diff\n",
    "SS_means = sum(grand_sq)\n",
    "print(\"Sum of squares(SS_means) : \",SS_means)\n",
    "Var_means = SS_means/(3-1)\n",
    "MS_between = Var_means * 5\n",
    "df_group = 3-1\n",
    "SS_group = MS_between * (3-1)\n",
    "print(SS_group)\n",
    "F = MS_between/MS_err\n",
    "print(F)\n",
    "columns = ['source','SS','df','MS','F']\n",
    "Annova_df = pd.DataFrame(columns=columns)\n",
    "Annova_df['source'] = ['group','error','total']\n",
    "Annova_df['SS'] = [SS_group,SS_err,(SS_group+SS_err)]\n",
    "Annova_df['df'] = [df_group,df_error,'NaN']\n",
    "Annova_df['MS'] = [MS_between,MS_err,'NaN']\n",
    "Annova_df['F'] = [F,'NaN','NaN']\n",
    "print(\"The Annova table is as follows : \\n\",Annova_df)\n",
    "n2 = 3022.933333/4883.733333\n",
    "print(\"The effective size is : \",n2)\n",
    "print(\"The APA write up is : F(2, 12)=9.75, p <0.05, n2=0.62\")"
   ]
  },
  {
   "cell_type": "code",
   "execution_count": 23,
   "metadata": {},
   "outputs": [
    {
     "name": "stdout",
     "output_type": "stream",
     "text": [
      "4.0\n"
     ]
    },
    {
     "data": {
      "text/plain": [
       "F_onewayResult(statistic=3.6, pvalue=0.0943497728424377)"
      ]
     },
     "execution_count": 23,
     "metadata": {},
     "output_type": "execute_result"
    }
   ],
   "source": [
    "#Calculate F Test for given 10, 20, 30, 40, 50 and 5,10,15, 20, 25.For 10, 20, 30, 40, 50:\n",
    "\n",
    "import scipy.stats as stats\n",
    "import numpy as np\n",
    "\n",
    "# Getting the values as list\n",
    "a = [10, 20, 30, 40, 50]\n",
    "b = [5,10,15, 20, 25]\n",
    "# Calculating the variance of a using numpy's var function \n",
    "var_a = np.var(a)\n",
    "# Calculating the variance of b using numpy's var function\n",
    "var_b = np.var(b)\n",
    "# F_val is basically calculated as var(a)/var(b)\n",
    "f_val = var_a/var_b\n",
    "print(f_val)\n",
    "# Using the stats modules' f_oneway function to get the pvalue which is used in determining the Null hypothesis\n",
    "stats.f_oneway(a,b)"
   ]
  }
 ],
 "metadata": {
  "kernelspec": {
   "display_name": "Python 3",
   "language": "python",
   "name": "python3"
  },
  "language_info": {
   "codemirror_mode": {
    "name": "ipython",
    "version": 3
   },
   "file_extension": ".py",
   "mimetype": "text/x-python",
   "name": "python",
   "nbconvert_exporter": "python",
   "pygments_lexer": "ipython3",
   "version": "3.7.1"
  }
 },
 "nbformat": 4,
 "nbformat_minor": 2
}
